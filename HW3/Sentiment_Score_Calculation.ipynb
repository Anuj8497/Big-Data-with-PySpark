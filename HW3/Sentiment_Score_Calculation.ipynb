{
 "cells": [
  {
   "cell_type": "code",
   "execution_count": 1,
   "metadata": {},
   "outputs": [],
   "source": [
    "import findspark\n",
    "findspark.init()\n",
    "from pyspark.sql import SparkSession"
   ]
  },
  {
   "cell_type": "code",
   "execution_count": 2,
   "metadata": {},
   "outputs": [],
   "source": [
    "spark = SparkSession.builder.master(\"local[*]\").getOrCreate()"
   ]
  },
  {
   "cell_type": "code",
   "execution_count": 3,
   "metadata": {},
   "outputs": [],
   "source": [
    "# Importing the dataset containing the tweets, the same dataste which was outputted by the last cell of Twitter app.\n",
    "data = spark.read.format(\"csv\").option(\"header\",\"true\").load(\"test1.csv\") "
   ]
  },
  {
   "cell_type": "code",
   "execution_count": 4,
   "metadata": {},
   "outputs": [],
   "source": [
    "# Converting the dataset into rdd\n",
    "data_rdd = data.rdd"
   ]
  },
  {
   "cell_type": "code",
   "execution_count": 181,
   "metadata": {},
   "outputs": [],
   "source": [
    "# Removing the column name associated with the tweets\n",
    "data_rdd_tweet_only = data_rdd.map(lambda x: x[0])"
   ]
  },
  {
   "cell_type": "code",
   "execution_count": 182,
   "metadata": {},
   "outputs": [
    {
     "data": {
      "text/plain": [
       "'RT @BarbilCS: Poor &amp; worst medical #FacilitiesManagement @DistAdmKeonjhar exposed in minerals rich #ActualMiningAffected @Jodamhud @DDMJODA…'"
      ]
     },
     "execution_count": 182,
     "metadata": {},
     "output_type": "execute_result"
    }
   ],
   "source": [
    "data_rdd_tweet_only.first()"
   ]
  },
  {
   "cell_type": "code",
   "execution_count": 50,
   "metadata": {},
   "outputs": [],
   "source": [
    "# Defining the list of punctuations we will be removing before calculating the sentiment score\n",
    "punctuations = [\"(\", \"[\", \",\", \".\", \"!\", \"?\", \":\", \";\", \"]\", \")\", \"@\", \"^\",'#','&']"
   ]
  },
  {
   "cell_type": "markdown",
   "metadata": {},
   "source": [
    "### Writing a function to replace punctuations in text with \" \""
   ]
  },
  {
   "cell_type": "code",
   "execution_count": 51,
   "metadata": {},
   "outputs": [],
   "source": [
    "def eliminate_punctuations(text):\n",
    "    for char in text:\n",
    "        if char in punctuations:\n",
    "          text = text.replace(char,\"\")\n",
    "    return text"
   ]
  },
  {
   "cell_type": "code",
   "execution_count": 177,
   "metadata": {},
   "outputs": [],
   "source": [
    "# removing the punctuations and converting the entire tweet into lower case.\n",
    "clean = data_rdd_pair.map(lambda text : eliminate_punctuations(text)).map(lambda text : text.lower())"
   ]
  },
  {
   "cell_type": "code",
   "execution_count": 178,
   "metadata": {},
   "outputs": [
    {
     "data": {
      "text/plain": [
       "'rt barbilcs poor amp worst medical facilitiesmanagement distadmkeonjhar exposed in minerals rich actualminingaffected jodamhud ddmjoda…'"
      ]
     },
     "execution_count": 178,
     "metadata": {},
     "output_type": "execute_result"
    }
   ],
   "source": [
    "clean.first()"
   ]
  },
  {
   "cell_type": "code",
   "execution_count": 140,
   "metadata": {},
   "outputs": [],
   "source": [
    "# Importing text file containing the positive words\n",
    "positive = spark.sparkContext.textFile('positive-words.txt')"
   ]
  },
  {
   "cell_type": "code",
   "execution_count": 141,
   "metadata": {},
   "outputs": [],
   "source": [
    "# Importing text file containing the negative words\n",
    "negative = spark.sparkContext.textFile('negative-words.txt')"
   ]
  },
  {
   "cell_type": "code",
   "execution_count": 142,
   "metadata": {},
   "outputs": [],
   "source": [
    "# Creating a key value pair rdd with key as the tweet and value as the words in the tweet.\n",
    "clean_pair = clean.map(lambda x : (x,x.split()))"
   ]
  },
  {
   "cell_type": "code",
   "execution_count": 143,
   "metadata": {},
   "outputs": [
    {
     "data": {
      "text/plain": [
       "('rt barbilcs poor amp worst medical facilitiesmanagement distadmkeonjhar exposed in minerals rich actualminingaffected jodamhud ddmjoda…',\n",
       " ['rt',\n",
       "  'barbilcs',\n",
       "  'poor',\n",
       "  'amp',\n",
       "  'worst',\n",
       "  'medical',\n",
       "  'facilitiesmanagement',\n",
       "  'distadmkeonjhar',\n",
       "  'exposed',\n",
       "  'in',\n",
       "  'minerals',\n",
       "  'rich',\n",
       "  'actualminingaffected',\n",
       "  'jodamhud',\n",
       "  'ddmjoda…'])"
      ]
     },
     "execution_count": 143,
     "metadata": {},
     "output_type": "execute_result"
    }
   ],
   "source": [
    "clean_pair.first()"
   ]
  },
  {
   "cell_type": "code",
   "execution_count": 183,
   "metadata": {},
   "outputs": [],
   "source": [
    "# Extracting positive words in one list\n",
    "positive_list = positive.collect()\n",
    "# Extracting negative words in another list\n",
    "negative_list = negative.collect()"
   ]
  },
  {
   "cell_type": "markdown",
   "metadata": {},
   "source": [
    "### Writing a function which calculate sentiment score of the tweet. \n",
    "#### In this, each word of tweet is checked whether it is present in the positive  or negative list and accordingly \n",
    "#### the counter is incremented. In the end the sentiment score is calculated as (positive count - negative \n",
    "#### count "
   ]
  },
  {
   "cell_type": "code",
   "execution_count": 144,
   "metadata": {},
   "outputs": [],
   "source": [
    "def sentiment_score(x):\n",
    "    positive_count = 0\n",
    "    negative_count = 0\n",
    "    for words in x:\n",
    "        if words in positive_list:\n",
    "            positive_count = positive_count + 1 \n",
    "        elif words in negative_list:\n",
    "            negative_count = negative_count + 1\n",
    "    return(positive_count - negative_count)   "
   ]
  },
  {
   "cell_type": "code",
   "execution_count": 152,
   "metadata": {},
   "outputs": [],
   "source": [
    "ans = clean_pair.map(lambda x : (x[0],sentiment_score(x[1])))"
   ]
  },
  {
   "cell_type": "code",
   "execution_count": 155,
   "metadata": {},
   "outputs": [],
   "source": [
    "# Collecting the tweet and the sentiment score into the list.\n",
    "lis = ans.collect()"
   ]
  },
  {
   "cell_type": "code",
   "execution_count": 156,
   "metadata": {},
   "outputs": [],
   "source": [
    "import pandas as pd   \n",
    "# Converting list to Dataframe\n",
    "df = pd.DataFrame(lis) "
   ]
  },
  {
   "cell_type": "code",
   "execution_count": 157,
   "metadata": {},
   "outputs": [],
   "source": [
    "df.columns = (['Tweet_content','Sentiment Score'])"
   ]
  },
  {
   "cell_type": "code",
   "execution_count": 162,
   "metadata": {},
   "outputs": [],
   "source": [
    "# Outputting the dataframe as a csv\n",
    "df.to_csv('result.csv',encoding = 'utf-8',index = False) # Writing the final output to csv"
   ]
  },
  {
   "cell_type": "code",
   "execution_count": null,
   "metadata": {},
   "outputs": [],
   "source": []
  },
  {
   "cell_type": "code",
   "execution_count": null,
   "metadata": {},
   "outputs": [],
   "source": []
  },
  {
   "cell_type": "code",
   "execution_count": null,
   "metadata": {},
   "outputs": [],
   "source": []
  },
  {
   "cell_type": "code",
   "execution_count": null,
   "metadata": {},
   "outputs": [],
   "source": []
  },
  {
   "cell_type": "code",
   "execution_count": null,
   "metadata": {},
   "outputs": [],
   "source": []
  },
  {
   "cell_type": "code",
   "execution_count": null,
   "metadata": {},
   "outputs": [],
   "source": []
  },
  {
   "cell_type": "code",
   "execution_count": null,
   "metadata": {},
   "outputs": [],
   "source": []
  },
  {
   "cell_type": "code",
   "execution_count": null,
   "metadata": {},
   "outputs": [],
   "source": []
  },
  {
   "cell_type": "code",
   "execution_count": null,
   "metadata": {},
   "outputs": [],
   "source": []
  },
  {
   "cell_type": "code",
   "execution_count": null,
   "metadata": {},
   "outputs": [],
   "source": []
  }
 ],
 "metadata": {
  "kernelspec": {
   "display_name": "Python 3",
   "language": "python",
   "name": "python3"
  },
  "language_info": {
   "codemirror_mode": {
    "name": "ipython",
    "version": 3
   },
   "file_extension": ".py",
   "mimetype": "text/x-python",
   "name": "python",
   "nbconvert_exporter": "python",
   "pygments_lexer": "ipython3",
   "version": "3.7.1"
  }
 },
 "nbformat": 4,
 "nbformat_minor": 2
}
